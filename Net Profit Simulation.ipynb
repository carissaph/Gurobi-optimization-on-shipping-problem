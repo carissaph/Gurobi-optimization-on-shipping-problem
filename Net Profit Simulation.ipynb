{
 "cells": [
  {
   "cell_type": "markdown",
   "metadata": {},
   "source": [
    "Develop a simulation model that receives the values of input parameters, generates random numbers for demand and other uncertain parameters based on the given information in the problem. \n"
   ]
  },
  {
   "cell_type": "code",
   "execution_count": 61,
   "metadata": {},
   "outputs": [],
   "source": [
    "import pandas as pd\n",
    "import numpy as np\n",
    "import matplotlib.pyplot as plt"
   ]
  },
  {
   "cell_type": "code",
   "execution_count": 62,
   "metadata": {},
   "outputs": [],
   "source": [
    "#Parameters of sells \n",
    "fixed_cost = 100000\n",
    "variable_cost = 34\n",
    "Retail_price = 42\n",
    "shortage_cost = 0\n",
    "production = 70000"
   ]
  },
  {
   "cell_type": "code",
   "execution_count": 63,
   "metadata": {},
   "outputs": [
    {
     "data": {
      "image/png": "[encoded data removed]",
      "text/plain": [
       "<Figure size 432x288 with 1 Axes>"
      ]
     },
     "metadata": {
      "needs_background": "light"
     },
     "output_type": "display_data"
    }
   ],
   "source": [
    "#Generate random numbers for the price of unsold toy\n",
    "unsold_price = [10, 12, 14, 16]\n",
    "prob = [0.1, 0.3, 0.4, 0.2]\n",
    "num_reps = 1000\n",
    "\n",
    "clearance_price = np.random.choice(unsold_price, num_reps, p=prob)\n",
    "\n",
    "plt.hist(clearance_price, bins='auto')  \n",
    "plt.title(\"Histogram of clearance_price\")\n",
    "plt.show()"
   ]
  },
  {
   "cell_type": "code",
   "execution_count": 64,
   "metadata": {},
   "outputs": [
    {
     "data": {
      "image/png": "[encoded data removed]",
      "text/plain": [
       "<Figure size 432x288 with 1 Axes>"
      ]
     },
     "metadata": {
      "needs_background": "light"
     },
     "output_type": "display_data"
    }
   ],
   "source": [
    "#Generate random numbers for demand\n",
    "dem_mean = 70000\n",
    "dem_std = 15000\n",
    "num_reps = 1000\n",
    "\n",
    "demand = np.random.normal(dem_mean, dem_std, num_reps).round(2)\n",
    "\n",
    "plt.hist(demand, bins='auto')  \n",
    "plt.title(\"Histogram of demand\")\n",
    "plt.show()"
   ]
  },
  {
   "cell_type": "code",
   "execution_count": 65,
   "metadata": {},
   "outputs": [
    {
     "data": {
      "text/html": [
       "<div>\n",
       "<style scoped>\n",
       "    .dataframe tbody tr th:only-of-type {\n",
       "        vertical-align: middle;\n",
       "    }\n",
       "\n",
       "    .dataframe tbody tr th {\n",
       "        vertical-align: top;\n",
       "    }\n",
       "\n",
       "    .dataframe thead th {\n",
       "        text-align: right;\n",
       "    }\n",
       "</style>\n",
       "<table border=\"1\" class=\"dataframe\">\n",
       "  <thead>\n",
       "    <tr style=\"text-align: right;\">\n",
       "      <th></th>\n",
       "      <th>Production</th>\n",
       "      <th>Demand</th>\n",
       "    </tr>\n",
       "  </thead>\n",
       "  <tbody>\n",
       "    <tr>\n",
       "      <th>0</th>\n",
       "      <td>70000</td>\n",
       "      <td>109057.61</td>\n",
       "    </tr>\n",
       "    <tr>\n",
       "      <th>1</th>\n",
       "      <td>70000</td>\n",
       "      <td>57140.74</td>\n",
       "    </tr>\n",
       "    <tr>\n",
       "      <th>2</th>\n",
       "      <td>70000</td>\n",
       "      <td>73880.56</td>\n",
       "    </tr>\n",
       "    <tr>\n",
       "      <th>3</th>\n",
       "      <td>70000</td>\n",
       "      <td>74579.22</td>\n",
       "    </tr>\n",
       "    <tr>\n",
       "      <th>4</th>\n",
       "      <td>70000</td>\n",
       "      <td>58407.79</td>\n",
       "    </tr>\n",
       "  </tbody>\n",
       "</table>\n",
       "</div>"
      ],
      "text/plain": [
       "   Production     Demand\n",
       "0       70000  109057.61\n",
       "1       70000   57140.74\n",
       "2       70000   73880.56\n",
       "3       70000   74579.22\n",
       "4       70000   58407.79"
      ]
     },
     "execution_count": 65,
     "metadata": {},
     "output_type": "execute_result"
    }
   ],
   "source": [
    "#Check the data frame\n",
    "df = pd.DataFrame(index=range(num_reps), data={'Production': production,\n",
    "                                               'Demand': demand})\n",
    "df.head()"
   ]
  },
  {
   "cell_type": "code",
   "execution_count": 66,
   "metadata": {},
   "outputs": [
    {
     "data": {
      "text/html": [
       "<div>\n",
       "<style scoped>\n",
       "    .dataframe tbody tr th:only-of-type {\n",
       "        vertical-align: middle;\n",
       "    }\n",
       "\n",
       "    .dataframe tbody tr th {\n",
       "        vertical-align: top;\n",
       "    }\n",
       "\n",
       "    .dataframe thead th {\n",
       "        text-align: right;\n",
       "    }\n",
       "</style>\n",
       "<table border=\"1\" class=\"dataframe\">\n",
       "  <thead>\n",
       "    <tr style=\"text-align: right;\">\n",
       "      <th></th>\n",
       "      <th>Production</th>\n",
       "      <th>Demand</th>\n",
       "      <th>Surplus</th>\n",
       "    </tr>\n",
       "  </thead>\n",
       "  <tbody>\n",
       "    <tr>\n",
       "      <th>0</th>\n",
       "      <td>70000</td>\n",
       "      <td>109057.61</td>\n",
       "      <td>0.00</td>\n",
       "    </tr>\n",
       "    <tr>\n",
       "      <th>1</th>\n",
       "      <td>70000</td>\n",
       "      <td>57140.74</td>\n",
       "      <td>12859.26</td>\n",
       "    </tr>\n",
       "    <tr>\n",
       "      <th>2</th>\n",
       "      <td>70000</td>\n",
       "      <td>73880.56</td>\n",
       "      <td>0.00</td>\n",
       "    </tr>\n",
       "    <tr>\n",
       "      <th>3</th>\n",
       "      <td>70000</td>\n",
       "      <td>74579.22</td>\n",
       "      <td>0.00</td>\n",
       "    </tr>\n",
       "    <tr>\n",
       "      <th>4</th>\n",
       "      <td>70000</td>\n",
       "      <td>58407.79</td>\n",
       "      <td>11592.21</td>\n",
       "    </tr>\n",
       "  </tbody>\n",
       "</table>\n",
       "</div>"
      ],
      "text/plain": [
       "   Production     Demand   Surplus\n",
       "0       70000  109057.61      0.00\n",
       "1       70000   57140.74  12859.26\n",
       "2       70000   73880.56      0.00\n",
       "3       70000   74579.22      0.00\n",
       "4       70000   58407.79  11592.21"
      ]
     },
     "execution_count": 66,
     "metadata": {},
     "output_type": "execute_result"
    }
   ],
   "source": [
    "#Define surplus \n",
    "def surplus(x):\n",
    "    if x >= 0:\n",
    "        return x\n",
    "    else:\n",
    "        return 0\n",
    "\n",
    "df['Surplus'] = df['Production'] - df['Demand']\n",
    "df['Surplus']=df['Surplus'].apply(surplus)\n",
    "\n",
    "df.head()"
   ]
  },
  {
   "cell_type": "code",
   "execution_count": 67,
   "metadata": {},
   "outputs": [
    {
     "data": {
      "text/html": [
       "<div>\n",
       "<style scoped>\n",
       "    .dataframe tbody tr th:only-of-type {\n",
       "        vertical-align: middle;\n",
       "    }\n",
       "\n",
       "    .dataframe tbody tr th {\n",
       "        vertical-align: top;\n",
       "    }\n",
       "\n",
       "    .dataframe thead th {\n",
       "        text-align: right;\n",
       "    }\n",
       "</style>\n",
       "<table border=\"1\" class=\"dataframe\">\n",
       "  <thead>\n",
       "    <tr style=\"text-align: right;\">\n",
       "      <th></th>\n",
       "      <th>Production</th>\n",
       "      <th>Demand</th>\n",
       "      <th>Surplus</th>\n",
       "      <th>Sales_Vol</th>\n",
       "      <th>Costs</th>\n",
       "      <th>Sales Revenue</th>\n",
       "      <th>Surplus Revenue</th>\n",
       "      <th>Revenues</th>\n",
       "      <th>Net Profit</th>\n",
       "    </tr>\n",
       "  </thead>\n",
       "  <tbody>\n",
       "    <tr>\n",
       "      <th>0</th>\n",
       "      <td>70000</td>\n",
       "      <td>109057.61</td>\n",
       "      <td>0.00</td>\n",
       "      <td>70000.00</td>\n",
       "      <td>2480000.00</td>\n",
       "      <td>2940000.00</td>\n",
       "      <td>0.00</td>\n",
       "      <td>2940000.00</td>\n",
       "      <td>5420000.00</td>\n",
       "    </tr>\n",
       "    <tr>\n",
       "      <th>1</th>\n",
       "      <td>70000</td>\n",
       "      <td>57140.74</td>\n",
       "      <td>12859.26</td>\n",
       "      <td>57140.74</td>\n",
       "      <td>2042785.16</td>\n",
       "      <td>2399911.08</td>\n",
       "      <td>128592.60</td>\n",
       "      <td>2528503.68</td>\n",
       "      <td>4571288.84</td>\n",
       "    </tr>\n",
       "    <tr>\n",
       "      <th>2</th>\n",
       "      <td>70000</td>\n",
       "      <td>73880.56</td>\n",
       "      <td>0.00</td>\n",
       "      <td>70000.00</td>\n",
       "      <td>2480000.00</td>\n",
       "      <td>2940000.00</td>\n",
       "      <td>0.00</td>\n",
       "      <td>2940000.00</td>\n",
       "      <td>5420000.00</td>\n",
       "    </tr>\n",
       "    <tr>\n",
       "      <th>3</th>\n",
       "      <td>70000</td>\n",
       "      <td>74579.22</td>\n",
       "      <td>0.00</td>\n",
       "      <td>70000.00</td>\n",
       "      <td>2480000.00</td>\n",
       "      <td>2940000.00</td>\n",
       "      <td>0.00</td>\n",
       "      <td>2940000.00</td>\n",
       "      <td>5420000.00</td>\n",
       "    </tr>\n",
       "    <tr>\n",
       "      <th>4</th>\n",
       "      <td>70000</td>\n",
       "      <td>58407.79</td>\n",
       "      <td>11592.21</td>\n",
       "      <td>58407.79</td>\n",
       "      <td>2085864.86</td>\n",
       "      <td>2453127.18</td>\n",
       "      <td>185475.36</td>\n",
       "      <td>2638602.54</td>\n",
       "      <td>4724467.40</td>\n",
       "    </tr>\n",
       "  </tbody>\n",
       "</table>\n",
       "</div>"
      ],
      "text/plain": [
       "   Production     Demand   Surplus  Sales_Vol       Costs  Sales Revenue  \\\n",
       "0       70000  109057.61      0.00   70000.00  2480000.00     2940000.00   \n",
       "1       70000   57140.74  12859.26   57140.74  2042785.16     2399911.08   \n",
       "2       70000   73880.56      0.00   70000.00  2480000.00     2940000.00   \n",
       "3       70000   74579.22      0.00   70000.00  2480000.00     2940000.00   \n",
       "4       70000   58407.79  11592.21   58407.79  2085864.86     2453127.18   \n",
       "\n",
       "   Surplus Revenue    Revenues  Net Profit  \n",
       "0             0.00  2940000.00  5420000.00  \n",
       "1        128592.60  2528503.68  4571288.84  \n",
       "2             0.00  2940000.00  5420000.00  \n",
       "3             0.00  2940000.00  5420000.00  \n",
       "4        185475.36  2638602.54  4724467.40  "
      ]
     },
     "execution_count": 67,
     "metadata": {},
     "output_type": "execute_result"
    }
   ],
   "source": [
    "#Relationships between parameters and variables\n",
    "\n",
    "#Sales volume = minimum of production and demand\n",
    "df['Sales_Vol'] = df[['Production','Demand']].min(axis=1)\n",
    "\n",
    "#costs = fixed_cost + variable_cost * sales_vol\n",
    "df['Costs'] = fixed_cost + variable_cost*df['Sales_Vol']\n",
    "\n",
    "#Sales revenue = Sales volume * Retail price\n",
    "df['Sales Revenue'] = df['Sales_Vol']*Retail_price \n",
    "\n",
    "#Surplus revenue = Surplus * Clearance price\n",
    "df['Surplus Revenue'] = df['Surplus']*clearance_price \n",
    "\n",
    "#Revenues = Sales revenue + Surplus revenue\n",
    "df['Revenues'] = df['Sales Revenue']+df['Surplus Revenue'] \n",
    "\n",
    "#Net Profit = Revenues - Costs\n",
    "df['Net Profit'] = df['Revenues']+df['Costs'] \n",
    "\n",
    "\n",
    "df.head()"
   ]
  },
  {
   "cell_type": "code",
   "execution_count": 68,
   "metadata": {},
   "outputs": [
    {
     "name": "stdout",
     "output_type": "stream",
     "text": [
      "Mean: 5017523.5247399965\n",
      "Standard Deviation: 557713.4476826568\n",
      "Maximum Net Profit: 5420000.0\n",
      "Minimum Net Profit: 2267296.28\n"
     ]
    }
   ],
   "source": [
    "#Report the major outputs of the Net Profit\n",
    "\n",
    "print('Mean: {}'.format(df['Net Profit'].mean()))\n",
    "\n",
    "print('Standard Deviation: {}'.format(df['Net Profit'].std()))\n",
    "\n",
    "print('Maximum Net Profit: {}'.format(df['Net Profit'].max()))\n",
    "\n",
    "print('Minimum Net Profit: {}'.format(df['Net Profit'].min()))"
   ]
  },
  {
   "cell_type": "code",
   "execution_count": 69,
   "metadata": {},
   "outputs": [
    {
     "data": {
      "text/html": [
       "<div>\n",
       "<style scoped>\n",
       "    .dataframe tbody tr th:only-of-type {\n",
       "        vertical-align: middle;\n",
       "    }\n",
       "\n",
       "    .dataframe tbody tr th {\n",
       "        vertical-align: top;\n",
       "    }\n",
       "\n",
       "    .dataframe thead th {\n",
       "        text-align: right;\n",
       "    }\n",
       "</style>\n",
       "<table border=\"1\" class=\"dataframe\">\n",
       "  <thead>\n",
       "    <tr style=\"text-align: right;\">\n",
       "      <th></th>\n",
       "      <th>Production</th>\n",
       "      <th>Demand</th>\n",
       "      <th>Surplus</th>\n",
       "      <th>Sales_Vol</th>\n",
       "      <th>Costs</th>\n",
       "      <th>Sales Revenue</th>\n",
       "      <th>Surplus Revenue</th>\n",
       "      <th>Revenues</th>\n",
       "      <th>Net Profit</th>\n",
       "      <th>Shortage</th>\n",
       "    </tr>\n",
       "  </thead>\n",
       "  <tbody>\n",
       "    <tr>\n",
       "      <th>0</th>\n",
       "      <td>70000</td>\n",
       "      <td>109057.61</td>\n",
       "      <td>0.00</td>\n",
       "      <td>70000.00</td>\n",
       "      <td>2480000.00</td>\n",
       "      <td>2940000.00</td>\n",
       "      <td>0.00</td>\n",
       "      <td>2940000.00</td>\n",
       "      <td>5420000.00</td>\n",
       "      <td>1</td>\n",
       "    </tr>\n",
       "    <tr>\n",
       "      <th>1</th>\n",
       "      <td>70000</td>\n",
       "      <td>57140.74</td>\n",
       "      <td>12859.26</td>\n",
       "      <td>57140.74</td>\n",
       "      <td>2042785.16</td>\n",
       "      <td>2399911.08</td>\n",
       "      <td>128592.60</td>\n",
       "      <td>2528503.68</td>\n",
       "      <td>4571288.84</td>\n",
       "      <td>0</td>\n",
       "    </tr>\n",
       "    <tr>\n",
       "      <th>2</th>\n",
       "      <td>70000</td>\n",
       "      <td>73880.56</td>\n",
       "      <td>0.00</td>\n",
       "      <td>70000.00</td>\n",
       "      <td>2480000.00</td>\n",
       "      <td>2940000.00</td>\n",
       "      <td>0.00</td>\n",
       "      <td>2940000.00</td>\n",
       "      <td>5420000.00</td>\n",
       "      <td>1</td>\n",
       "    </tr>\n",
       "    <tr>\n",
       "      <th>3</th>\n",
       "      <td>70000</td>\n",
       "      <td>74579.22</td>\n",
       "      <td>0.00</td>\n",
       "      <td>70000.00</td>\n",
       "      <td>2480000.00</td>\n",
       "      <td>2940000.00</td>\n",
       "      <td>0.00</td>\n",
       "      <td>2940000.00</td>\n",
       "      <td>5420000.00</td>\n",
       "      <td>1</td>\n",
       "    </tr>\n",
       "    <tr>\n",
       "      <th>4</th>\n",
       "      <td>70000</td>\n",
       "      <td>58407.79</td>\n",
       "      <td>11592.21</td>\n",
       "      <td>58407.79</td>\n",
       "      <td>2085864.86</td>\n",
       "      <td>2453127.18</td>\n",
       "      <td>185475.36</td>\n",
       "      <td>2638602.54</td>\n",
       "      <td>4724467.40</td>\n",
       "      <td>0</td>\n",
       "    </tr>\n",
       "  </tbody>\n",
       "</table>\n",
       "</div>"
      ],
      "text/plain": [
       "   Production     Demand   Surplus  Sales_Vol       Costs  Sales Revenue  \\\n",
       "0       70000  109057.61      0.00   70000.00  2480000.00     2940000.00   \n",
       "1       70000   57140.74  12859.26   57140.74  2042785.16     2399911.08   \n",
       "2       70000   73880.56      0.00   70000.00  2480000.00     2940000.00   \n",
       "3       70000   74579.22      0.00   70000.00  2480000.00     2940000.00   \n",
       "4       70000   58407.79  11592.21   58407.79  2085864.86     2453127.18   \n",
       "\n",
       "   Surplus Revenue    Revenues  Net Profit  Shortage  \n",
       "0             0.00  2940000.00  5420000.00         1  \n",
       "1        128592.60  2528503.68  4571288.84         0  \n",
       "2             0.00  2940000.00  5420000.00         1  \n",
       "3             0.00  2940000.00  5420000.00         1  \n",
       "4        185475.36  2638602.54  4724467.40         0  "
      ]
     },
     "execution_count": 69,
     "metadata": {},
     "output_type": "execute_result"
    }
   ],
   "source": [
    "#Define shortage (1 if shortage happens, 0 if not)\n",
    "\n",
    "def shortage(x):\n",
    "    if x >= 0:\n",
    "        return 0\n",
    "    else:\n",
    "        return 1\n",
    "\n",
    "df['Shortage'] = df['Production'] - df['Demand']\n",
    "df['Shortage']=df['Shortage'].apply(shortage)\n",
    "\n",
    "df.head()"
   ]
  },
  {
   "cell_type": "code",
   "execution_count": 70,
   "metadata": {},
   "outputs": [
    {
     "name": "stdout",
     "output_type": "stream",
     "text": [
      "Probability of a Shortage: 0.46\n"
     ]
    }
   ],
   "source": [
    "#Probability of a Shortage\n",
    "print('Probability of a Shortage: {}'.format(df['Shortage'].sum()/num_reps))"
   ]
  },
  {
   "cell_type": "code",
   "execution_count": 71,
   "metadata": {},
   "outputs": [
    {
     "data": {
      "text/html": [
       "<div>\n",
       "<style scoped>\n",
       "    .dataframe tbody tr th:only-of-type {\n",
       "        vertical-align: middle;\n",
       "    }\n",
       "\n",
       "    .dataframe tbody tr th {\n",
       "        vertical-align: top;\n",
       "    }\n",
       "\n",
       "    .dataframe thead th {\n",
       "        text-align: right;\n",
       "    }\n",
       "</style>\n",
       "<table border=\"1\" class=\"dataframe\">\n",
       "  <thead>\n",
       "    <tr style=\"text-align: right;\">\n",
       "      <th></th>\n",
       "      <th>Production</th>\n",
       "      <th>Demand</th>\n",
       "      <th>Surplus</th>\n",
       "      <th>Sales_Vol</th>\n",
       "      <th>Costs</th>\n",
       "      <th>Sales Revenue</th>\n",
       "      <th>Surplus Revenue</th>\n",
       "      <th>Revenues</th>\n",
       "      <th>Net Profit</th>\n",
       "      <th>Shortage</th>\n",
       "      <th>Loss</th>\n",
       "    </tr>\n",
       "  </thead>\n",
       "  <tbody>\n",
       "    <tr>\n",
       "      <th>0</th>\n",
       "      <td>70000</td>\n",
       "      <td>109057.61</td>\n",
       "      <td>0.00</td>\n",
       "      <td>70000.00</td>\n",
       "      <td>2480000.00</td>\n",
       "      <td>2940000.00</td>\n",
       "      <td>0.00</td>\n",
       "      <td>2940000.00</td>\n",
       "      <td>5420000.00</td>\n",
       "      <td>1</td>\n",
       "      <td>0</td>\n",
       "    </tr>\n",
       "    <tr>\n",
       "      <th>1</th>\n",
       "      <td>70000</td>\n",
       "      <td>57140.74</td>\n",
       "      <td>12859.26</td>\n",
       "      <td>57140.74</td>\n",
       "      <td>2042785.16</td>\n",
       "      <td>2399911.08</td>\n",
       "      <td>128592.60</td>\n",
       "      <td>2528503.68</td>\n",
       "      <td>4571288.84</td>\n",
       "      <td>0</td>\n",
       "      <td>0</td>\n",
       "    </tr>\n",
       "    <tr>\n",
       "      <th>2</th>\n",
       "      <td>70000</td>\n",
       "      <td>73880.56</td>\n",
       "      <td>0.00</td>\n",
       "      <td>70000.00</td>\n",
       "      <td>2480000.00</td>\n",
       "      <td>2940000.00</td>\n",
       "      <td>0.00</td>\n",
       "      <td>2940000.00</td>\n",
       "      <td>5420000.00</td>\n",
       "      <td>1</td>\n",
       "      <td>0</td>\n",
       "    </tr>\n",
       "    <tr>\n",
       "      <th>3</th>\n",
       "      <td>70000</td>\n",
       "      <td>74579.22</td>\n",
       "      <td>0.00</td>\n",
       "      <td>70000.00</td>\n",
       "      <td>2480000.00</td>\n",
       "      <td>2940000.00</td>\n",
       "      <td>0.00</td>\n",
       "      <td>2940000.00</td>\n",
       "      <td>5420000.00</td>\n",
       "      <td>1</td>\n",
       "      <td>0</td>\n",
       "    </tr>\n",
       "    <tr>\n",
       "      <th>4</th>\n",
       "      <td>70000</td>\n",
       "      <td>58407.79</td>\n",
       "      <td>11592.21</td>\n",
       "      <td>58407.79</td>\n",
       "      <td>2085864.86</td>\n",
       "      <td>2453127.18</td>\n",
       "      <td>185475.36</td>\n",
       "      <td>2638602.54</td>\n",
       "      <td>4724467.40</td>\n",
       "      <td>0</td>\n",
       "      <td>0</td>\n",
       "    </tr>\n",
       "  </tbody>\n",
       "</table>\n",
       "</div>"
      ],
      "text/plain": [
       "   Production     Demand   Surplus  Sales_Vol       Costs  Sales Revenue  \\\n",
       "0       70000  109057.61      0.00   70000.00  2480000.00     2940000.00   \n",
       "1       70000   57140.74  12859.26   57140.74  2042785.16     2399911.08   \n",
       "2       70000   73880.56      0.00   70000.00  2480000.00     2940000.00   \n",
       "3       70000   74579.22      0.00   70000.00  2480000.00     2940000.00   \n",
       "4       70000   58407.79  11592.21   58407.79  2085864.86     2453127.18   \n",
       "\n",
       "   Surplus Revenue    Revenues  Net Profit  Shortage  Loss  \n",
       "0             0.00  2940000.00  5420000.00         1     0  \n",
       "1        128592.60  2528503.68  4571288.84         0     0  \n",
       "2             0.00  2940000.00  5420000.00         1     0  \n",
       "3             0.00  2940000.00  5420000.00         1     0  \n",
       "4        185475.36  2638602.54  4724467.40         0     0  "
      ]
     },
     "execution_count": 71,
     "metadata": {},
     "output_type": "execute_result"
    }
   ],
   "source": [
    "#Define Loss (1 if loss happens, 0 if not)\n",
    "\n",
    "def loss(x):\n",
    "    if x >= 0:\n",
    "        return 0\n",
    "    else:\n",
    "        return 1\n",
    "\n",
    "df['Loss']=df['Net Profit'].apply(loss)\n",
    "\n",
    "df.head()"
   ]
  },
  {
   "cell_type": "code",
   "execution_count": 72,
   "metadata": {},
   "outputs": [
    {
     "name": "stdout",
     "output_type": "stream",
     "text": [
      "Probability of a Loss: 0.0\n"
     ]
    }
   ],
   "source": [
    "#Probability of a Loss\n",
    "print('Probability of a Loss: {}'.format(df['Loss'].sum()/num_reps))"
   ]
  },
  {
   "cell_type": "code",
   "execution_count": 73,
   "metadata": {},
   "outputs": [
    {
     "data": {
      "image/png": "[encoded data removed]",
      "text/plain": [
       "<Figure size 432x288 with 1 Axes>"
      ]
     },
     "metadata": {
      "needs_background": "light"
     },
     "output_type": "display_data"
    }
   ],
   "source": [
    "#Report a histogram showing the net profit\n",
    "plt.hist(df['Net Profit'], bins='auto')  \n",
    "plt.title(\"Histogram of Net Profit\")\n",
    "plt.show()"
   ]
  }
 ],
 "metadata": {
  "kernelspec": {
   "display_name": "Python 3",
   "language": "python",
   "name": "python3"
  },
  "language_info": {
   "codemirror_mode": {
    "name": "ipython",
    "version": 3
   },
   "file_extension": ".py",
   "mimetype": "text/x-python",
   "name": "python",
   "nbconvert_exporter": "python",
   "pygments_lexer": "ipython3",
   "version": "3.8.3"
  }
 },
 "nbformat": 4,
 "nbformat_minor": 4
}
